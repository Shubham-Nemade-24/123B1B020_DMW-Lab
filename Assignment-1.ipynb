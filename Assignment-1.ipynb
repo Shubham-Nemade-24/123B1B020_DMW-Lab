{
 "cells": [
  {
   "cell_type": "code",
   "execution_count": 1,
   "id": "0beb017e",
   "metadata": {},
   "outputs": [],
   "source": [
    "import numpy as np\n",
    "import pandas as pd\n",
    "import seaborn as sns\n",
    "import matplotlib.pyplot as mplt\n",
    "from sklearn.preprocessing import StandardScaler, MinMaxScaler"
   ]
  },
  {
   "cell_type": "code",
   "execution_count": 2,
   "id": "110fafb7",
   "metadata": {},
   "outputs": [],
   "source": [
    "df = pd.read_csv(\"college_student_placement_dataset.csv\")"
   ]
  },
  {
   "cell_type": "code",
   "execution_count": 3,
   "id": "8f4251de",
   "metadata": {},
   "outputs": [
    {
     "name": "stdout",
     "output_type": "stream",
     "text": [
      "     College_ID   IQ  Prev_Sem_Result  CGPA  Academic_Performance  \\\n",
      "0       CLG0030  107             6.61  6.28                     8   \n",
      "1       CLG0061   97             5.52  5.37                     8   \n",
      "2       CLG0036  109             5.36  5.83                     9   \n",
      "3       CLG0055  122             5.47  5.75                     6   \n",
      "4       CLG0004   96             7.91  7.69                     7   \n",
      "...         ...  ...              ...   ...                   ...   \n",
      "9995    CLG0021  119             8.41  8.29                     4   \n",
      "9996    CLG0098   70             9.25  9.34                     7   \n",
      "9997    CLG0066   89             6.08  6.25                     3   \n",
      "9998    CLG0045  107             8.77  8.92                     3   \n",
      "9999    CLG0060  109             9.41  9.77                     8   \n",
      "\n",
      "     Internship_Experience  Extra_Curricular_Score  Communication_Skills  \\\n",
      "0                       No                       8                     8   \n",
      "1                       No                       7                     8   \n",
      "2                       No                       3                     1   \n",
      "3                      Yes                       1                     6   \n",
      "4                       No                       8                    10   \n",
      "...                    ...                     ...                   ...   \n",
      "9995                    No                       1                     8   \n",
      "9996                    No                       0                     7   \n",
      "9997                   Yes                       3                     9   \n",
      "9998                    No                       7                     5   \n",
      "9999                    No                       3                     5   \n",
      "\n",
      "      Projects_Completed Placement  \n",
      "0                      4        No  \n",
      "1                      0        No  \n",
      "2                      1        No  \n",
      "3                      1        No  \n",
      "4                      2        No  \n",
      "...                  ...       ...  \n",
      "9995                   0       Yes  \n",
      "9996                   2        No  \n",
      "9997                   5        No  \n",
      "9998                   1        No  \n",
      "9999                   5        No  \n",
      "\n",
      "[10000 rows x 10 columns]\n"
     ]
    }
   ],
   "source": [
    "print(df)"
   ]
  },
  {
   "cell_type": "code",
   "execution_count": 4,
   "id": "5661e1cf",
   "metadata": {},
   "outputs": [
    {
     "data": {
      "text/html": [
       "<div>\n",
       "<style scoped>\n",
       "    .dataframe tbody tr th:only-of-type {\n",
       "        vertical-align: middle;\n",
       "    }\n",
       "\n",
       "    .dataframe tbody tr th {\n",
       "        vertical-align: top;\n",
       "    }\n",
       "\n",
       "    .dataframe thead th {\n",
       "        text-align: right;\n",
       "    }\n",
       "</style>\n",
       "<table border=\"1\" class=\"dataframe\">\n",
       "  <thead>\n",
       "    <tr style=\"text-align: right;\">\n",
       "      <th></th>\n",
       "      <th>College_ID</th>\n",
       "      <th>IQ</th>\n",
       "      <th>Prev_Sem_Result</th>\n",
       "      <th>CGPA</th>\n",
       "      <th>Academic_Performance</th>\n",
       "      <th>Internship_Experience</th>\n",
       "      <th>Extra_Curricular_Score</th>\n",
       "      <th>Communication_Skills</th>\n",
       "      <th>Projects_Completed</th>\n",
       "      <th>Placement</th>\n",
       "    </tr>\n",
       "  </thead>\n",
       "  <tbody>\n",
       "    <tr>\n",
       "      <th>0</th>\n",
       "      <td>CLG0030</td>\n",
       "      <td>107</td>\n",
       "      <td>6.61</td>\n",
       "      <td>6.28</td>\n",
       "      <td>8</td>\n",
       "      <td>No</td>\n",
       "      <td>8</td>\n",
       "      <td>8</td>\n",
       "      <td>4</td>\n",
       "      <td>No</td>\n",
       "    </tr>\n",
       "    <tr>\n",
       "      <th>1</th>\n",
       "      <td>CLG0061</td>\n",
       "      <td>97</td>\n",
       "      <td>5.52</td>\n",
       "      <td>5.37</td>\n",
       "      <td>8</td>\n",
       "      <td>No</td>\n",
       "      <td>7</td>\n",
       "      <td>8</td>\n",
       "      <td>0</td>\n",
       "      <td>No</td>\n",
       "    </tr>\n",
       "    <tr>\n",
       "      <th>2</th>\n",
       "      <td>CLG0036</td>\n",
       "      <td>109</td>\n",
       "      <td>5.36</td>\n",
       "      <td>5.83</td>\n",
       "      <td>9</td>\n",
       "      <td>No</td>\n",
       "      <td>3</td>\n",
       "      <td>1</td>\n",
       "      <td>1</td>\n",
       "      <td>No</td>\n",
       "    </tr>\n",
       "    <tr>\n",
       "      <th>3</th>\n",
       "      <td>CLG0055</td>\n",
       "      <td>122</td>\n",
       "      <td>5.47</td>\n",
       "      <td>5.75</td>\n",
       "      <td>6</td>\n",
       "      <td>Yes</td>\n",
       "      <td>1</td>\n",
       "      <td>6</td>\n",
       "      <td>1</td>\n",
       "      <td>No</td>\n",
       "    </tr>\n",
       "    <tr>\n",
       "      <th>4</th>\n",
       "      <td>CLG0004</td>\n",
       "      <td>96</td>\n",
       "      <td>7.91</td>\n",
       "      <td>7.69</td>\n",
       "      <td>7</td>\n",
       "      <td>No</td>\n",
       "      <td>8</td>\n",
       "      <td>10</td>\n",
       "      <td>2</td>\n",
       "      <td>No</td>\n",
       "    </tr>\n",
       "  </tbody>\n",
       "</table>\n",
       "</div>"
      ],
      "text/plain": [
       "  College_ID   IQ  Prev_Sem_Result  CGPA  Academic_Performance  \\\n",
       "0    CLG0030  107             6.61  6.28                     8   \n",
       "1    CLG0061   97             5.52  5.37                     8   \n",
       "2    CLG0036  109             5.36  5.83                     9   \n",
       "3    CLG0055  122             5.47  5.75                     6   \n",
       "4    CLG0004   96             7.91  7.69                     7   \n",
       "\n",
       "  Internship_Experience  Extra_Curricular_Score  Communication_Skills  \\\n",
       "0                    No                       8                     8   \n",
       "1                    No                       7                     8   \n",
       "2                    No                       3                     1   \n",
       "3                   Yes                       1                     6   \n",
       "4                    No                       8                    10   \n",
       "\n",
       "   Projects_Completed Placement  \n",
       "0                   4        No  \n",
       "1                   0        No  \n",
       "2                   1        No  \n",
       "3                   1        No  \n",
       "4                   2        No  "
      ]
     },
     "execution_count": 4,
     "metadata": {},
     "output_type": "execute_result"
    }
   ],
   "source": [
    "df.head()"
   ]
  },
  {
   "cell_type": "code",
   "execution_count": 5,
   "id": "80168ede",
   "metadata": {},
   "outputs": [
    {
     "name": "stdout",
     "output_type": "stream",
     "text": [
      "<class 'pandas.core.frame.DataFrame'>\n",
      "RangeIndex: 10000 entries, 0 to 9999\n",
      "Data columns (total 10 columns):\n",
      " #   Column                  Non-Null Count  Dtype  \n",
      "---  ------                  --------------  -----  \n",
      " 0   College_ID              10000 non-null  object \n",
      " 1   IQ                      10000 non-null  int64  \n",
      " 2   Prev_Sem_Result         10000 non-null  float64\n",
      " 3   CGPA                    10000 non-null  float64\n",
      " 4   Academic_Performance    10000 non-null  int64  \n",
      " 5   Internship_Experience   10000 non-null  object \n",
      " 6   Extra_Curricular_Score  10000 non-null  int64  \n",
      " 7   Communication_Skills    10000 non-null  int64  \n",
      " 8   Projects_Completed      10000 non-null  int64  \n",
      " 9   Placement               10000 non-null  object \n",
      "dtypes: float64(2), int64(5), object(3)\n",
      "memory usage: 781.4+ KB\n"
     ]
    }
   ],
   "source": [
    "df.info()"
   ]
  },
  {
   "cell_type": "code",
   "execution_count": 6,
   "id": "550ab7b0",
   "metadata": {},
   "outputs": [
    {
     "data": {
      "text/plain": [
       "College_ID                0\n",
       "IQ                        0\n",
       "Prev_Sem_Result           0\n",
       "CGPA                      0\n",
       "Academic_Performance      0\n",
       "Internship_Experience     0\n",
       "Extra_Curricular_Score    0\n",
       "Communication_Skills      0\n",
       "Projects_Completed        0\n",
       "Placement                 0\n",
       "dtype: int64"
      ]
     },
     "execution_count": 6,
     "metadata": {},
     "output_type": "execute_result"
    }
   ],
   "source": [
    "df.isnull().sum()"
   ]
  },
  {
   "cell_type": "code",
   "execution_count": 7,
   "id": "2d3c9d6e",
   "metadata": {},
   "outputs": [],
   "source": [
    "X = df[['Academic_Performance']]\n",
    "scaler = StandardScaler()\n",
    "X_scaled = scaler.fit_transform(X)"
   ]
  },
  {
   "cell_type": "code",
   "execution_count": 8,
   "id": "00249b71",
   "metadata": {},
   "outputs": [
    {
     "name": "stdout",
     "output_type": "stream",
     "text": [
      "Original Academic Performance Scores :- \n",
      " 0       8\n",
      "1       8\n",
      "2       9\n",
      "3       6\n",
      "4       7\n",
      "       ..\n",
      "9995    4\n",
      "9996    7\n",
      "9997    3\n",
      "9998    3\n",
      "9999    8\n",
      "Name: Academic_Performance, Length: 10000, dtype: int64\n",
      "\n",
      "\n",
      "\n",
      "Academic Performance Scores after Scaling(normalization) :- \n",
      " [[ 0.85392098]\n",
      " [ 0.85392098]\n",
      " [ 1.20194877]\n",
      " ...\n",
      " [-0.88621796]\n",
      " [-0.88621796]\n",
      " [ 0.85392098]]\n"
     ]
    }
   ],
   "source": [
    "print(\"Original Academic Performance Scores :- \\n\",df['Academic_Performance'])\n",
    "print(\"\\n\\n\")\n",
    "print(\"Academic Performance Scores after Scaling(normalization) :- \\n\", X_scaled)"
   ]
  },
  {
   "cell_type": "code",
   "execution_count": 9,
   "id": "db6b9aa1",
   "metadata": {},
   "outputs": [],
   "source": [
    "df['Academic_Performance'] = X_scaled"
   ]
  },
  {
   "cell_type": "code",
   "execution_count": 10,
   "id": "e83e153f",
   "metadata": {},
   "outputs": [
    {
     "name": "stdout",
     "output_type": "stream",
     "text": [
      "0       0.853921\n",
      "1       0.853921\n",
      "2       1.201949\n",
      "3       0.157865\n",
      "4       0.505893\n",
      "          ...   \n",
      "9995   -0.538190\n",
      "9996    0.505893\n",
      "9997   -0.886218\n",
      "9998   -0.886218\n",
      "9999    0.853921\n",
      "Name: Academic_Performance, Length: 10000, dtype: float64\n"
     ]
    }
   ],
   "source": [
    "print(df['Academic_Performance'])"
   ]
  },
  {
   "cell_type": "code",
   "execution_count": 11,
   "id": "9a3246be",
   "metadata": {},
   "outputs": [],
   "source": [
    "X2 = df[['IQ']]\n",
    "scaler = MinMaxScaler()\n",
    "X2_scaled = scaler.fit_transform(X2)"
   ]
  },
  {
   "cell_type": "code",
   "execution_count": 12,
   "id": "f6b6d7e1",
   "metadata": {},
   "outputs": [
    {
     "name": "stdout",
     "output_type": "stream",
     "text": [
      "Original IQ Scores :- \n",
      " 0       107\n",
      "1        97\n",
      "2       109\n",
      "3       122\n",
      "4        96\n",
      "       ... \n",
      "9995    119\n",
      "9996     70\n",
      "9997     89\n",
      "9998    107\n",
      "9999    109\n",
      "Name: IQ, Length: 10000, dtype: int64\n",
      "\n",
      "\n",
      "\n",
      "IQ Scores after Scaling(normalization) :- \n",
      " [[0.56410256]\n",
      " [0.47863248]\n",
      " [0.58119658]\n",
      " ...\n",
      " [0.41025641]\n",
      " [0.56410256]\n",
      " [0.58119658]]\n"
     ]
    }
   ],
   "source": [
    "print(\"Original IQ Scores :- \\n\",df['IQ'])\n",
    "print(\"\\n\\n\")\n",
    "print(\"IQ Scores after Scaling(normalization) :- \\n\", X2_scaled)"
   ]
  },
  {
   "cell_type": "code",
   "execution_count": 13,
   "id": "ce8c69e8",
   "metadata": {},
   "outputs": [
    {
     "name": "stdout",
     "output_type": "stream",
     "text": [
      "0       0.564103\n",
      "1       0.478632\n",
      "2       0.581197\n",
      "3       0.692308\n",
      "4       0.470085\n",
      "          ...   \n",
      "9995    0.666667\n",
      "9996    0.247863\n",
      "9997    0.410256\n",
      "9998    0.564103\n",
      "9999    0.581197\n",
      "Name: IQ, Length: 10000, dtype: float64\n"
     ]
    }
   ],
   "source": [
    "df['IQ'] = X2_scaled\n",
    "print(df['IQ'])\n"
   ]
  },
  {
   "cell_type": "code",
   "execution_count": 14,
   "id": "318f705a",
   "metadata": {},
   "outputs": [],
   "source": [
    "df['IQ_binning'] = pd.cut(df['IQ'], bins=3, labels=['Low', 'Medium', 'High'])\n",
    "\n",
    "df['AP_binning'] = pd.cut(df['Academic_Performance'], bins=3, labels=['Poor', 'Average', 'Good'])"
   ]
  },
  {
   "cell_type": "code",
   "execution_count": 15,
   "id": "089e4bad",
   "metadata": {},
   "outputs": [
    {
     "name": "stdout",
     "output_type": "stream",
     "text": [
      "AP_binning  Poor  Average  Good\n",
      "IQ_binning                     \n",
      "Low          374      346   320\n",
      "Medium      3152     2349  2425\n",
      "High         427      296   311\n"
     ]
    }
   ],
   "source": [
    "pivot = pd.crosstab(df['IQ_binning'], df['AP_binning'])\n",
    "print(pivot)"
   ]
  },
  {
   "cell_type": "code",
   "execution_count": 16,
   "id": "26b1e44e",
   "metadata": {},
   "outputs": [
    {
     "data": {
      "text/plain": [
       "Text(0, 0.5, 'Academic Performance')"
      ]
     },
     "execution_count": 16,
     "metadata": {},
     "output_type": "execute_result"
    },
    {
     "data": {
      "image/png": "[encoded data removed]",
      "text/plain": [
       "<Figure size 640x480 with 1 Axes>"
      ]
     },
     "metadata": {},
     "output_type": "display_data"
    }
   ],
   "source": [
    "pivot.plot(kind='bar')\n",
    "mplt.title('Academic Performance as per IQ')\n",
    "mplt.xlabel('IQ')\n",
    "mplt.ylabel('Academic Performance')"
   ]
  },
  {
   "cell_type": "code",
   "execution_count": 17,
   "id": "cba62a34",
   "metadata": {},
   "outputs": [
    {
     "name": "stdout",
     "output_type": "stream",
     "text": [
      "Mean of IQ =  0.49975897435897443\n",
      "Median of IQ =  0.4957264957264958\n",
      "Mode of IQ =  0.4957264957264958\n"
     ]
    }
   ],
   "source": [
    "print(\"Mean of IQ = \", df['IQ'].mean())\n",
    "print(\"Median of IQ = \", df['IQ'].median())\n",
    "print(\"Mode of IQ = \", df['IQ'].mode()[0])"
   ]
  },
  {
   "cell_type": "code",
   "execution_count": 18,
   "id": "e9a8b21e",
   "metadata": {},
   "outputs": [
    {
     "name": "stdout",
     "output_type": "stream",
     "text": [
      "Standard Deviation of IQ :- \n",
      " 0.12865898705943707\n"
     ]
    }
   ],
   "source": [
    "SD_IQ = df['IQ'].std()\n",
    "print(\"Standard Deviation of IQ :- \\n\", SD_IQ)"
   ]
  },
  {
   "cell_type": "code",
   "execution_count": 19,
   "id": "4a502c60",
   "metadata": {},
   "outputs": [
    {
     "data": {
      "image/png": "[encoded data removed]",
      "text/plain": [
       "<Figure size 640x480 with 1 Axes>"
      ]
     },
     "metadata": {},
     "output_type": "display_data"
    }
   ],
   "source": [
    "sns.regplot(x='IQ', y = 'Academic_Performance', data=df, line_kws={\"color\": \"red\"})\n",
    "\n",
    "mplt.title(\"Regression Line: IQ vs Academic Performance\")\n",
    "mplt.xlabel(\"IQ\")\n",
    "mplt.ylabel(\"Academic Performance\")\n",
    "mplt.show()"
   ]
  }
 ],
 "metadata": {
  "kernelspec": {
   "display_name": "venv",
   "language": "python",
   "name": "python3"
  },
  "language_info": {
   "codemirror_mode": {
    "name": "ipython",
    "version": 3
   },
   "file_extension": ".py",
   "mimetype": "text/x-python",
   "name": "python",
   "nbconvert_exporter": "python",
   "pygments_lexer": "ipython3",
   "version": "3.12.1"
  }
 },
 "nbformat": 4,
 "nbformat_minor": 5
}
